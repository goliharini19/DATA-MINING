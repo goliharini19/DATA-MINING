{
  "nbformat": 4,
  "nbformat_minor": 0,
  "metadata": {
    "colab": {
      "provenance": [],
      "authorship_tag": "ABX9TyOYQscJXjIbluZmpbjNzD1+",
      "include_colab_link": true
    },
    "kernelspec": {
      "name": "python3",
      "display_name": "Python 3"
    },
    "language_info": {
      "name": "python"
    }
  },
  "cells": [
    {
      "cell_type": "markdown",
      "metadata": {
        "id": "view-in-github",
        "colab_type": "text"
      },
      "source": [
        "<a href=\"https://colab.research.google.com/github/goliharini19/DATA-MINING/blob/main/Lab07_DM.ipynb\" target=\"_parent\"><img src=\"https://colab.research.google.com/assets/colab-badge.svg\" alt=\"Open In Colab\"/></a>"
      ]
    },
    {
      "cell_type": "code",
      "execution_count": 1,
      "metadata": {
        "id": "wg_1moCylOTw"
      },
      "outputs": [],
      "source": [
        "import pandas as pd\n",
        "data = {\n",
        "    'Employee': ['John', 'Sarah', 'Mike', 'Emma', 'Tom'],\n",
        "    'Department': ['IT', 'HR', 'IT', 'Finance', 'HR'],\n",
        "    'Salary': [60000, 50000, 75000, 65000, 48000],\n",
        "    'Experience (Years)': [5, 3, 7, 4, 2],\n",
        "    'Performance Rating (Out of 5)': [4.5, 3.8, 4.9, 4.2, 3.5]\n",
        "}"
      ]
    },
    {
      "cell_type": "code",
      "source": [
        "df = pd.DataFrame(data)\n",
        "print(df)"
      ],
      "metadata": {
        "colab": {
          "base_uri": "https://localhost:8080/"
        },
        "id": "u9T0aOZnla6k",
        "outputId": "c2f50212-3983-4442-ef34-6993924de0cc"
      },
      "execution_count": 2,
      "outputs": [
        {
          "output_type": "stream",
          "name": "stdout",
          "text": [
            "  Employee Department  Salary  Experience (Years)  \\\n",
            "0     John         IT   60000                   5   \n",
            "1    Sarah         HR   50000                   3   \n",
            "2     Mike         IT   75000                   7   \n",
            "3     Emma    Finance   65000                   4   \n",
            "4      Tom         HR   48000                   2   \n",
            "\n",
            "   Performance Rating (Out of 5)  \n",
            "0                            4.5  \n",
            "1                            3.8  \n",
            "2                            4.9  \n",
            "3                            4.2  \n",
            "4                            3.5  \n"
          ]
        }
      ]
    },
    {
      "cell_type": "code",
      "source": [
        "avg_salary_per_dept = df.groupby('Department')['Salary'].mean()\n",
        "print(avg_salary_per_dept)"
      ],
      "metadata": {
        "colab": {
          "base_uri": "https://localhost:8080/"
        },
        "id": "i79tbnVQlzhA",
        "outputId": "f740d1be-a461-4238-ce1c-122ec7c89132"
      },
      "execution_count": 3,
      "outputs": [
        {
          "output_type": "stream",
          "name": "stdout",
          "text": [
            "Department\n",
            "Finance    65000.0\n",
            "HR         49000.0\n",
            "IT         67500.0\n",
            "Name: Salary, dtype: float64\n"
          ]
        }
      ]
    },
    {
      "cell_type": "code",
      "source": [
        "filtered_df = df[df['Performance Rating (Out of 5)'] > 4.0]\n",
        "print(filtered_df)"
      ],
      "metadata": {
        "colab": {
          "base_uri": "https://localhost:8080/"
        },
        "id": "_Ou_P3pxl67T",
        "outputId": "3aee0b10-5b97-444b-a679-c7762eec769e"
      },
      "execution_count": 4,
      "outputs": [
        {
          "output_type": "stream",
          "name": "stdout",
          "text": [
            "  Employee Department  Salary  Experience (Years)  \\\n",
            "0     John         IT   60000                   5   \n",
            "2     Mike         IT   75000                   7   \n",
            "3     Emma    Finance   65000                   4   \n",
            "\n",
            "   Performance Rating (Out of 5)  \n",
            "0                            4.5  \n",
            "2                            4.9  \n",
            "3                            4.2  \n"
          ]
        }
      ]
    },
    {
      "cell_type": "code",
      "source": [
        "df[\"Increment\"] = 1000\n",
        "df[\"New Salary\"] = df[\"Salary\"] + df[\"Increment\"]"
      ],
      "metadata": {
        "id": "sknNdT7ho0uY"
      },
      "execution_count": 7,
      "outputs": []
    },
    {
      "cell_type": "code",
      "source": [
        "df_sorted = df.sort_values(by=\"New Salary\", ascending=False)\n",
        "print(\"\\nEmployees sorted by new salary:\\n\", df_sorted)"
      ],
      "metadata": {
        "colab": {
          "base_uri": "https://localhost:8080/"
        },
        "id": "cCdzuc9Bo9Vm",
        "outputId": "bc96492c-67e2-408d-e7a8-719d62ad1b9c"
      },
      "execution_count": 8,
      "outputs": [
        {
          "output_type": "stream",
          "name": "stdout",
          "text": [
            "\n",
            "Employees sorted by new salary:\n",
            "   Employee Department  Salary  Experience (Years)  \\\n",
            "2     Mike         IT   75000                   7   \n",
            "3     Emma    Finance   65000                   4   \n",
            "0     John         IT   60000                   5   \n",
            "1    Sarah         HR   50000                   3   \n",
            "4      Tom         HR   48000                   2   \n",
            "\n",
            "   Performance Rating (Out of 5)  Increment  New Salary  \n",
            "2                            4.9       1000       76000  \n",
            "3                            4.2       1000       66000  \n",
            "0                            4.5       1000       61000  \n",
            "1                            3.8       1000       51000  \n",
            "4                            3.5       1000       49000  \n"
          ]
        }
      ]
    },
    {
      "cell_type": "code",
      "source": [
        "import pandas as pd\n",
        "# Creating the DataFrame\n",
        "data = {\n",
        "    \"City\": [\"New York\", \"Los Angeles\", \"Chicago\", \"Houston\", \"Miami\"],\n",
        "    \"Total Cases\": [100000, 85000, 65000, 70000, 55000],\n",
        "    \"Recovered\": [75000, 70000, 50000, 60000, 45000],\n",
        "    \"Deaths\": [5000, 3500, 2500, 2000, 1500]\n",
        "}\n",
        "df = pd.DataFrame(data)"
      ],
      "metadata": {
        "id": "6BXUxeoHrKDr"
      },
      "execution_count": 10,
      "outputs": []
    },
    {
      "cell_type": "code",
      "source": [
        "# Calculating the recovery rate\n",
        "df[\"Recovery Rate (%)\"] = (df[\"Recovered\"] / df[\"Total Cases\"]) * 100\n",
        "# Displaying the DataFrame\n",
        "print(df)"
      ],
      "metadata": {
        "colab": {
          "base_uri": "https://localhost:8080/"
        },
        "id": "tZmSxG8Ira-s",
        "outputId": "ffd43520-63b8-4687-ef3e-7692224bc568"
      },
      "execution_count": 12,
      "outputs": [
        {
          "output_type": "stream",
          "name": "stdout",
          "text": [
            "          City  Total Cases  Recovered  Deaths  Recovery Rate (%)\n",
            "0     New York       100000      75000    5000          75.000000\n",
            "1  Los Angeles        85000      70000    3500          82.352941\n",
            "2      Chicago        65000      50000    2500          76.923077\n",
            "3      Houston        70000      60000    2000          85.714286\n",
            "4        Miami        55000      45000    1500          81.818182\n"
          ]
        }
      ]
    },
    {
      "cell_type": "code",
      "source": [
        "df[\"Death Rate (%)\"] = (df[\"Deaths\"] / df[\"Total Cases\"]) * 100\n",
        "high_death_rate_cities = df[df[\"Death Rate (%)\"] > 5]"
      ],
      "metadata": {
        "id": "WXfFjjKCvilV"
      },
      "execution_count": 14,
      "outputs": []
    },
    {
      "cell_type": "code",
      "source": [
        "df_sorted = df.sort_values(by=\"Recovery Rate (%)\", ascending=False)"
      ],
      "metadata": {
        "id": "x2FGjV9SvqWN"
      },
      "execution_count": 15,
      "outputs": []
    },
    {
      "cell_type": "code",
      "source": [
        "total_cases = df[\"Total Cases\"].sum()\n",
        "total_deaths = df[\"Deaths\"].sum()"
      ],
      "metadata": {
        "id": "Fyh5EczBvup4"
      },
      "execution_count": 16,
      "outputs": []
    },
    {
      "cell_type": "code",
      "source": [
        "print(\"DataFrame with Recovery and Death Rates:\")\n",
        "print(df)\n",
        "print(\"\\nCities with Death Rate > 5%:\")\n",
        "print(high_death_rate_cities)\n",
        "print(\"\\nCities Sorted by Highest Recovery Rate:\")\n",
        "print(df_sorted)\n",
        "print(f\"\\nTotal Cases Across All Cities: {total_cases}\")\n",
        "print(f\"Total Deaths Across All Cities: {total_deaths}\")"
      ],
      "metadata": {
        "colab": {
          "base_uri": "https://localhost:8080/"
        },
        "id": "fKYE_JeGvyEl",
        "outputId": "7a643a6f-6298-40aa-9241-da99f1160149"
      },
      "execution_count": 17,
      "outputs": [
        {
          "output_type": "stream",
          "name": "stdout",
          "text": [
            "DataFrame with Recovery and Death Rates:\n",
            "          City  Total Cases  Recovered  Deaths  Recovery Rate (%)  \\\n",
            "0     New York       100000      75000    5000          75.000000   \n",
            "1  Los Angeles        85000      70000    3500          82.352941   \n",
            "2      Chicago        65000      50000    2500          76.923077   \n",
            "3      Houston        70000      60000    2000          85.714286   \n",
            "4        Miami        55000      45000    1500          81.818182   \n",
            "\n",
            "   Death Rate (%)  \n",
            "0        5.000000  \n",
            "1        4.117647  \n",
            "2        3.846154  \n",
            "3        2.857143  \n",
            "4        2.727273  \n",
            "\n",
            "Cities with Death Rate > 5%:\n",
            "Empty DataFrame\n",
            "Columns: [City, Total Cases, Recovered, Deaths, Recovery Rate (%), Death Rate (%)]\n",
            "Index: []\n",
            "\n",
            "Cities Sorted by Highest Recovery Rate:\n",
            "          City  Total Cases  Recovered  Deaths  Recovery Rate (%)  \\\n",
            "3      Houston        70000      60000    2000          85.714286   \n",
            "1  Los Angeles        85000      70000    3500          82.352941   \n",
            "4        Miami        55000      45000    1500          81.818182   \n",
            "2      Chicago        65000      50000    2500          76.923077   \n",
            "0     New York       100000      75000    5000          75.000000   \n",
            "\n",
            "   Death Rate (%)  \n",
            "3        2.857143  \n",
            "1        4.117647  \n",
            "4        2.727273  \n",
            "2        3.846154  \n",
            "0        5.000000  \n",
            "\n",
            "Total Cases Across All Cities: 375000\n",
            "Total Deaths Across All Cities: 14500\n"
          ]
        }
      ]
    }
  ]
}
