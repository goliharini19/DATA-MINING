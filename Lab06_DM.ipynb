{
  "nbformat": 4,
  "nbformat_minor": 0,
  "metadata": {
    "colab": {
      "provenance": [],
      "authorship_tag": "ABX9TyMSA40eT6itrF5AbQEt38t3",
      "include_colab_link": true
    },
    "kernelspec": {
      "name": "python3",
      "display_name": "Python 3"
    },
    "language_info": {
      "name": "python"
    }
  },
  "cells": [
    {
      "cell_type": "markdown",
      "metadata": {
        "id": "view-in-github",
        "colab_type": "text"
      },
      "source": [
        "<a href=\"https://colab.research.google.com/github/goliharini19/DATA-MINING/blob/main/Lab06_DM.ipynb\" target=\"_parent\"><img src=\"https://colab.research.google.com/assets/colab-badge.svg\" alt=\"Open In Colab\"/></a>"
      ]
    },
    {
      "cell_type": "code",
      "execution_count": null,
      "metadata": {
        "id": "JLhgAkFZy3HC"
      },
      "outputs": [],
      "source": [
        "import numpy as np\n",
        "import pandas as pd\n",
        "import matplotlib.pyplot as plt\n",
        "import seaborn as sns\n",
        "from scipy import stats"
      ]
    },
    {
      "cell_type": "code",
      "source": [
        "#create a synthetic dataset\n",
        "np.random.seed(42)\n",
        "data=np.random.normal(0,1,100)#Normal distribution\n",
        "outliers=np.random.normal(5,10,5)#Artificial outliers"
      ],
      "metadata": {
        "id": "xIjlI5br79c0"
      },
      "execution_count": null,
      "outputs": []
    },
    {
      "cell_type": "code",
      "source": [
        "data_series=pd.Series(data)\n",
        "data_series.describe()"
      ],
      "metadata": {
        "colab": {
          "base_uri": "https://localhost:8080/",
          "height": 335
        },
        "id": "4oKeZsO09Ogw",
        "outputId": "ef297292-c92d-4175-801e-94d6746df3a9"
      },
      "execution_count": null,
      "outputs": [
        {
          "output_type": "execute_result",
          "data": {
            "text/plain": [
              "count    100.000000\n",
              "mean      -0.103847\n",
              "std        0.908168\n",
              "min       -2.619745\n",
              "25%       -0.600906\n",
              "50%       -0.126956\n",
              "75%        0.405952\n",
              "max        1.852278\n",
              "dtype: float64"
            ],
            "text/html": [
              "<div>\n",
              "<style scoped>\n",
              "    .dataframe tbody tr th:only-of-type {\n",
              "        vertical-align: middle;\n",
              "    }\n",
              "\n",
              "    .dataframe tbody tr th {\n",
              "        vertical-align: top;\n",
              "    }\n",
              "\n",
              "    .dataframe thead th {\n",
              "        text-align: right;\n",
              "    }\n",
              "</style>\n",
              "<table border=\"1\" class=\"dataframe\">\n",
              "  <thead>\n",
              "    <tr style=\"text-align: right;\">\n",
              "      <th></th>\n",
              "      <th>0</th>\n",
              "    </tr>\n",
              "  </thead>\n",
              "  <tbody>\n",
              "    <tr>\n",
              "      <th>count</th>\n",
              "      <td>100.000000</td>\n",
              "    </tr>\n",
              "    <tr>\n",
              "      <th>mean</th>\n",
              "      <td>-0.103847</td>\n",
              "    </tr>\n",
              "    <tr>\n",
              "      <th>std</th>\n",
              "      <td>0.908168</td>\n",
              "    </tr>\n",
              "    <tr>\n",
              "      <th>min</th>\n",
              "      <td>-2.619745</td>\n",
              "    </tr>\n",
              "    <tr>\n",
              "      <th>25%</th>\n",
              "      <td>-0.600906</td>\n",
              "    </tr>\n",
              "    <tr>\n",
              "      <th>50%</th>\n",
              "      <td>-0.126956</td>\n",
              "    </tr>\n",
              "    <tr>\n",
              "      <th>75%</th>\n",
              "      <td>0.405952</td>\n",
              "    </tr>\n",
              "    <tr>\n",
              "      <th>max</th>\n",
              "      <td>1.852278</td>\n",
              "    </tr>\n",
              "  </tbody>\n",
              "</table>\n",
              "</div><br><label><b>dtype:</b> float64</label>"
            ]
          },
          "metadata": {},
          "execution_count": 8
        }
      ]
    },
    {
      "cell_type": "code",
      "source": [
        "#combine data and outliers into a single variable\n",
        "data_with_outliers=np.concatenate([data,outliers])\n",
        "#convert to DataFrame\n",
        "df=pd.DataFrame(data_with_outliers,columns=['values'])"
      ],
      "metadata": {
        "id": "TLFQGXHt-6wC"
      },
      "execution_count": null,
      "outputs": []
    },
    {
      "cell_type": "code",
      "source": [
        "#step 1: detect outliers using IQR method\n",
        "Q1 = df['values'].quantile(0.25)\n",
        "Q3 = df['values'].quantile(0.75)\n",
        "IQR = Q3 - Q1\n",
        "lower_bound = Q1 - 1.5 * IQR\n",
        "upper_bound = Q3 + 1.5 * IQR\n",
        "# Identifying outliers based on IQR\n",
        "outliers_iqr = df[(df['values'] < lower_bound) | (df['values'] >\n",
        "upper_bound)]"
      ],
      "metadata": {
        "id": "gufyz1OF_vrp"
      },
      "execution_count": null,
      "outputs": []
    },
    {
      "cell_type": "code",
      "source": [
        "#print the values of upper and lower bounds\n",
        "print(\"Lower Bound:\", lower_bound)\n",
        "print(\"Upper Bound:\", upper_bound)"
      ],
      "metadata": {
        "colab": {
          "base_uri": "https://localhost:8080/"
        },
        "id": "S8AfKUU5BxbP",
        "outputId": "5c7c3efc-15d4-4ae5-fb41-d9a61846df5a"
      },
      "execution_count": null,
      "outputs": [
        {
          "output_type": "stream",
          "name": "stdout",
          "text": [
            "Lower Bound: -2.2741676802435267\n",
            "Upper Bound: 2.185728501127486\n"
          ]
        }
      ]
    },
    {
      "cell_type": "code",
      "source": [
        "# Identifying outliers based on IQR\n",
        "outliers_iqr = df[(df['values'] < lower_bound) | (df['values'] >\n",
        "upper_bound)]"
      ],
      "metadata": {
        "id": "R3jQsOiSCE2f"
      },
      "execution_count": null,
      "outputs": []
    },
    {
      "cell_type": "code",
      "source": [
        "# Step 2: Detect Outliers using Z-Score method\n",
        "z_scores = stats.zscore(df['values'])\n",
        "outliers_zscore = df[np.abs(z_scores) > 3]"
      ],
      "metadata": {
        "id": "1CTMK7PPCT1e"
      },
      "execution_count": null,
      "outputs": []
    },
    {
      "cell_type": "code",
      "source": [
        "# Step 3: Visualize outliers using a boxplot\n",
        "plt.figure(figsize=(8, 6))\n",
        "sns.boxplot(x=df['values'])\n",
        "plt.title(\"Boxplot for Outlier Detection\")\n",
        "plt.show()"
      ],
      "metadata": {
        "colab": {
          "base_uri": "https://localhost:8080/",
          "height": 564
        },
        "id": "ceO-QRYpCo-S",
        "outputId": "0498bc7a-5648-42de-ded9-6c319aa3c237"
      },
      "execution_count": null,
      "outputs": [
        {
          "output_type": "display_data",
          "data": {
            "text/plain": [
              "<Figure size 800x600 with 1 Axes>"
            ],
            "image/png": "[encoded data removed]"
          },
          "metadata": {}
        }
      ]
    },
    {
      "cell_type": "code",
      "source": [
        "# Step 4: Handle Outliers\n",
        "# Capping: Set outliers to the upper and lower bounds\n",
        "df_capped = df.copy()\n",
        "df_capped['values'] = np.clip(df_capped['values'], lower_bound, upper_bound)\n",
        "# Removal: Drop rows with outliers\n",
        "df_removed = df.copy()\n",
        "df_removed = df_removed[(df_removed['values'] >= lower_bound) &\n",
        "(df_removed['values'] <= upper_bound)]\n",
        "# Imputation: Replace outliers with the median\n",
        "df_imputed = df.copy()\n",
        "median_value = df['values'].median()\n",
        "df_imputed['values'] = np.where((df_imputed['values'] < lower_bound) |\n",
        "(df_imputed['values'] > upper_bound), median_value, df_imputed['values'])"
      ],
      "metadata": {
        "id": "wHp1RpvIFQIR"
      },
      "execution_count": null,
      "outputs": []
    },
    {
      "cell_type": "code",
      "source": [
        "# Step 5: Visualize handled data\n",
        "# Capped data\n",
        "plt.figure(figsize=(8, 6))\n",
        "sns.boxplot(x=df_capped['values'])\n",
        "plt.title(\"Capped Outliers\")\n",
        "plt.show()\n",
        "# Removed data\n",
        "plt.figure(figsize=(8, 6))\n",
        "sns.boxplot(x=df_removed['values'])\n",
        "plt.title(\"Removed Outliers\")\n",
        "plt.show()\n",
        "# Imputed data\n",
        "plt.figure(figsize=(8, 6))\n",
        "sns.boxplot(x=df_imputed['values'])\n",
        "plt.title(\"Imputed Outliers\")\n",
        "plt.show()"
      ],
      "metadata": {
        "colab": {
          "base_uri": "https://localhost:8080/",
          "height": 1000
        },
        "id": "dmC-kj4oFq7R",
        "outputId": "e50a6991-dfaf-4694-820f-3fcc4fc6218f"
      },
      "execution_count": null,
      "outputs": [
        {
          "output_type": "display_data",
          "data": {
            "text/plain": [
              "<Figure size 800x600 with 1 Axes>"
            ],
            "image/png": "[encoded data removed]"
          },
          "metadata": {}
        },
        {
          "output_type": "display_data",
          "data": {
            "text/plain": [
              "<Figure size 800x600 with 1 Axes>"
            ],
            "image/png": "[encoded data removed]"
          },
          "metadata": {}
        },
        {
          "output_type": "display_data",
          "data": {
            "text/plain": [
              "<Figure size 800x600 with 1 Axes>"
            ],
            "image/png": "[encoded data removed]"
          },
          "metadata": {}
        }
      ]
    },
    {
      "cell_type": "code",
      "source": [
        "# Print outliers detected\n",
        "print(f\"Outliers detected using IQR:\\n{outliers_iqr}\")\n",
        "print(f\"Outliers detected using Z-Score:\\n{outliers_zscore}\")"
      ],
      "metadata": {
        "colab": {
          "base_uri": "https://localhost:8080/"
        },
        "id": "qYZppn3KF1V8",
        "outputId": "bea13a5a-9760-40c3-93e2-26965eec042a"
      },
      "execution_count": null,
      "outputs": [
        {
          "output_type": "stream",
          "name": "stdout",
          "text": [
            "Outliers detected using IQR:\n",
            "       values\n",
            "74  -2.619745\n",
            "100 -9.153707\n",
            "103 -3.022773\n",
            "104  3.387143\n",
            "Outliers detected using Z-Score:\n",
            "       values\n",
            "100 -9.153707\n"
          ]
        }
      ]
    }
  ]
}